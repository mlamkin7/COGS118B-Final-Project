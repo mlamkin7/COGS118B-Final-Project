{
 "cells": [
  {
   "cell_type": "markdown",
   "metadata": {},
   "source": [
    "# Evaluation of Clustering Methods"
   ]
  },
  {
   "cell_type": "code",
   "execution_count": 45,
   "metadata": {},
   "outputs": [],
   "source": [
    "def make_groups(file):\n",
    "    true_groups = [line.rstrip('\\n') for line in file]\n",
    "    cell_groups = [0]*5\n",
    "    for index in range(5):\n",
    "        cell_groups[index] = []\n",
    "\n",
    "    for count, group in enumerate(true_groups):\n",
    "        cell_groups[int(group)-1].append(str(count+1))\n",
    "    cell_groups.sort(key=lambda x: len(x), reverse=True)\n",
    "    return cell_groups\n",
    "\n",
    "cell_groups = make_groups(open(\"/home/michael/COGS118B/true_groups.csv\"))"
   ]
  },
  {
   "cell_type": "code",
   "execution_count": 48,
   "metadata": {},
   "outputs": [],
   "source": [
    "def evaluate_clustering(true_groups, clusters):\n",
    "    for cluster in clusters:\n",
    "        min_mismatch = 0\n",
    "        for group in true_groups:\n",
    "            mismatched = []\n",
    "            for c_group in cluster:\n",
    "                mismatched.append(len(list(set(group) - set(c_group))))\n",
    "\n",
    "            min_mismatch += min(mismatched)\n",
    "            min_index = mismatched.index(min(mismatched))\n",
    "            cluster = [x for val, x in enumerate(cluster) if val != min_index]\n",
    "        \n",
    "        pct_correct = 1 - (min_mismatch*1.0/1000)\n",
    "        print(pct_correct)"
   ]
  },
  {
   "cell_type": "markdown",
   "metadata": {},
   "source": [
    "## Hierarchical"
   ]
  },
  {
   "cell_type": "code",
   "execution_count": 49,
   "metadata": {},
   "outputs": [
    {
     "name": "stdout",
     "output_type": "stream",
     "text": [
      "0.512\n",
      "0.608\n"
     ]
    }
   ],
   "source": [
    "pre_pca_hc = [line.rstrip('\\n') for line in open(\"/home/michael/COGS118B/Pre_PCA_hierarchical.csv\")]\n",
    "pre_pca_hc = [group.strip(' \\t').split(' ') for group in pre_pca_hc[1:]]\n",
    "\n",
    "post_pca_hc = [line.rstrip('\\n') for line in open(\"/home/michael/COGS118B/Post_PCA_hierarchical.csv\")]\n",
    "post_pca_hc = [group.strip(' \\t').split(' ') for group in post_pca_hc[1:]]\n",
    "\n",
    "# evaluate by finding min score\n",
    "all_hc = [pre_pca_hc, post_pca_hc]\n",
    "evaluate_clustering(cell_groups, all_hc)"
   ]
  },
  {
   "cell_type": "markdown",
   "metadata": {},
   "source": [
    "## Kmeans"
   ]
  },
  {
   "cell_type": "code",
   "execution_count": 60,
   "metadata": {
    "scrolled": false
   },
   "outputs": [
    {
     "name": "stdout",
     "output_type": "stream",
     "text": [
      "1.0\n",
      "0.794\n"
     ]
    }
   ],
   "source": [
    "pre_pca_km = make_groups(open(\"/home/michael/COGS118B/Pre_PCA_kmeans.csv\"))\n",
    "post_pca_km = make_groups(open(\"/home/michael/COGS118B/Post_PCA_kmeans.csv\"))\n",
    "\n",
    "all_km = [pre_pca_km, post_pca_km]\n",
    "evaluate_clustering(cell_groups, all_km)"
   ]
  },
  {
   "cell_type": "markdown",
   "metadata": {},
   "source": [
    "## Spectral"
   ]
  },
  {
   "cell_type": "code",
   "execution_count": 58,
   "metadata": {},
   "outputs": [
    {
     "name": "stdout",
     "output_type": "stream",
     "text": [
      "0.367\n",
      "0.781\n"
     ]
    }
   ],
   "source": [
    "pre_pca_sp = make_groups(open(\"/home/michael/COGS118B/Pre_PCA_spectral.csv\"))\n",
    "post_pca_sp = make_groups(open(\"/home/michael/COGS118B/Post_PCA_spectral.csv\"))\n",
    "\n",
    "all_sp = [pre_pca_sp, post_pca_sp]\n",
    "evaluate_clustering(cell_groups, all_sp)"
   ]
  },
  {
   "cell_type": "markdown",
   "metadata": {},
   "source": [
    "## GMM (Only 1)"
   ]
  },
  {
   "cell_type": "code",
   "execution_count": 57,
   "metadata": {},
   "outputs": [
    {
     "name": "stdout",
     "output_type": "stream",
     "text": [
      "0.8260000000000001\n"
     ]
    }
   ],
   "source": [
    "post_pca_gmm = make_groups(open(\"/home/michael/COGS118B/Post_PCA_GMM.csv\"))\n",
    "\n",
    "evaluate_clustering(cell_groups, [post_pca_gmm])"
   ]
  },
  {
   "cell_type": "code",
   "execution_count": null,
   "metadata": {},
   "outputs": [],
   "source": []
  }
 ],
 "metadata": {
  "kernelspec": {
   "display_name": "Python 3",
   "language": "python",
   "name": "python3"
  },
  "language_info": {
   "codemirror_mode": {
    "name": "ipython",
    "version": 3
   },
   "file_extension": ".py",
   "mimetype": "text/x-python",
   "name": "python",
   "nbconvert_exporter": "python",
   "pygments_lexer": "ipython3",
   "version": "3.7.3"
  }
 },
 "nbformat": 4,
 "nbformat_minor": 2
}
